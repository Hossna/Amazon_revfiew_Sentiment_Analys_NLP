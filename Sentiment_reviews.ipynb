{
 "cells": [
  {
   "cell_type": "code",
   "execution_count": 247,
   "id": "755bbd58",
   "metadata": {},
   "outputs": [],
   "source": [
    "import numpy as np\n",
    "import pandas as pd"
   ]
  },
  {
   "cell_type": "code",
   "execution_count": 248,
   "id": "325ba0bd",
   "metadata": {},
   "outputs": [],
   "source": [
    "rel_5_review = pd.read_pickle('reviews_on_freq_asin.pkl')"
   ]
  },
  {
   "cell_type": "code",
   "execution_count": 249,
   "id": "f9fc67ec",
   "metadata": {},
   "outputs": [
    {
     "data": {
      "text/plain": [
       "(417181, 13)"
      ]
     },
     "execution_count": 249,
     "metadata": {},
     "output_type": "execute_result"
    }
   ],
   "source": [
    "rel_5_review.shape"
   ]
  },
  {
   "cell_type": "code",
   "execution_count": 293,
   "id": "e481bb4f",
   "metadata": {},
   "outputs": [
    {
     "name": "stdout",
     "output_type": "stream",
     "text": [
      "<class 'pandas.core.frame.DataFrame'>\n",
      "Int64Index: 417181 entries, 7806 to 6887222\n",
      "Data columns (total 13 columns):\n",
      " #   Column          Non-Null Count   Dtype \n",
      "---  ------          --------------   ----- \n",
      " 0   overall         417181 non-null  int64 \n",
      " 1   verified        417181 non-null  bool  \n",
      " 2   reviewTime      417181 non-null  object\n",
      " 3   reviewerID      417181 non-null  object\n",
      " 4   asin            417181 non-null  object\n",
      " 5   reviewerName    417156 non-null  object\n",
      " 6   reviewText      417055 non-null  object\n",
      " 7   summary         417106 non-null  object\n",
      " 8   unixReviewTime  417181 non-null  int64 \n",
      " 9   vote            31889 non-null   object\n",
      " 10  style           334764 non-null  object\n",
      " 11  image           5920 non-null    object\n",
      " 12  unique_asin     417181 non-null  object\n",
      "dtypes: bool(1), int64(2), object(10)\n",
      "memory usage: 41.8+ MB\n"
     ]
    }
   ],
   "source": [
    "rel_5_review.info()"
   ]
  },
  {
   "cell_type": "code",
   "execution_count": 294,
   "id": "0001c09f",
   "metadata": {},
   "outputs": [
    {
     "data": {
      "text/html": [
       "<div>\n",
       "<style scoped>\n",
       "    .dataframe tbody tr th:only-of-type {\n",
       "        vertical-align: middle;\n",
       "    }\n",
       "\n",
       "    .dataframe tbody tr th {\n",
       "        vertical-align: top;\n",
       "    }\n",
       "\n",
       "    .dataframe thead th {\n",
       "        text-align: right;\n",
       "    }\n",
       "</style>\n",
       "<table border=\"1\" class=\"dataframe\">\n",
       "  <thead>\n",
       "    <tr style=\"text-align: right;\">\n",
       "      <th></th>\n",
       "      <th>overall</th>\n",
       "      <th>unixReviewTime</th>\n",
       "    </tr>\n",
       "  </thead>\n",
       "  <tbody>\n",
       "    <tr>\n",
       "      <th>count</th>\n",
       "      <td>417181.000000</td>\n",
       "      <td>4.171810e+05</td>\n",
       "    </tr>\n",
       "    <tr>\n",
       "      <th>mean</th>\n",
       "      <td>4.429502</td>\n",
       "      <td>1.447251e+09</td>\n",
       "    </tr>\n",
       "    <tr>\n",
       "      <th>std</th>\n",
       "      <td>1.089800</td>\n",
       "      <td>5.448575e+07</td>\n",
       "    </tr>\n",
       "    <tr>\n",
       "      <th>min</th>\n",
       "      <td>1.000000</td>\n",
       "      <td>9.615456e+08</td>\n",
       "    </tr>\n",
       "    <tr>\n",
       "      <th>25%</th>\n",
       "      <td>4.000000</td>\n",
       "      <td>1.418256e+09</td>\n",
       "    </tr>\n",
       "    <tr>\n",
       "      <th>50%</th>\n",
       "      <td>5.000000</td>\n",
       "      <td>1.453421e+09</td>\n",
       "    </tr>\n",
       "    <tr>\n",
       "      <th>75%</th>\n",
       "      <td>5.000000</td>\n",
       "      <td>1.486166e+09</td>\n",
       "    </tr>\n",
       "    <tr>\n",
       "      <th>max</th>\n",
       "      <td>5.000000</td>\n",
       "      <td>1.538266e+09</td>\n",
       "    </tr>\n",
       "  </tbody>\n",
       "</table>\n",
       "</div>"
      ],
      "text/plain": [
       "             overall  unixReviewTime\n",
       "count  417181.000000    4.171810e+05\n",
       "mean        4.429502    1.447251e+09\n",
       "std         1.089800    5.448575e+07\n",
       "min         1.000000    9.615456e+08\n",
       "25%         4.000000    1.418256e+09\n",
       "50%         5.000000    1.453421e+09\n",
       "75%         5.000000    1.486166e+09\n",
       "max         5.000000    1.538266e+09"
      ]
     },
     "execution_count": 294,
     "metadata": {},
     "output_type": "execute_result"
    }
   ],
   "source": [
    "rel_5_review.describe()"
   ]
  },
  {
   "cell_type": "code",
   "execution_count": 250,
   "id": "79e15ff3",
   "metadata": {},
   "outputs": [
    {
     "data": {
      "text/html": [
       "<div>\n",
       "<style scoped>\n",
       "    .dataframe tbody tr th:only-of-type {\n",
       "        vertical-align: middle;\n",
       "    }\n",
       "\n",
       "    .dataframe tbody tr th {\n",
       "        vertical-align: top;\n",
       "    }\n",
       "\n",
       "    .dataframe thead th {\n",
       "        text-align: right;\n",
       "    }\n",
       "</style>\n",
       "<table border=\"1\" class=\"dataframe\">\n",
       "  <thead>\n",
       "    <tr style=\"text-align: right;\">\n",
       "      <th></th>\n",
       "      <th>overall</th>\n",
       "      <th>verified</th>\n",
       "      <th>reviewTime</th>\n",
       "      <th>reviewerID</th>\n",
       "      <th>asin</th>\n",
       "      <th>reviewerName</th>\n",
       "      <th>reviewText</th>\n",
       "      <th>summary</th>\n",
       "      <th>unixReviewTime</th>\n",
       "      <th>vote</th>\n",
       "      <th>style</th>\n",
       "      <th>image</th>\n",
       "      <th>unique_asin</th>\n",
       "    </tr>\n",
       "  </thead>\n",
       "  <tbody>\n",
       "    <tr>\n",
       "      <th>7806</th>\n",
       "      <td>5</td>\n",
       "      <td>False</td>\n",
       "      <td>09 18, 2000</td>\n",
       "      <td>A2Q89DEW2Y91A7</td>\n",
       "      <td>B00004OCIP</td>\n",
       "      <td>Cynthia Raxter</td>\n",
       "      <td>It is rare when $5.99 can make you happy! This...</td>\n",
       "      <td>My favorite kitchen gadget</td>\n",
       "      <td>969235200</td>\n",
       "      <td>6.0</td>\n",
       "      <td>{'Style Name:': ' Swivel Peeler'}</td>\n",
       "      <td>NaN</td>\n",
       "      <td>B00004OCIP</td>\n",
       "    </tr>\n",
       "    <tr>\n",
       "      <th>7807</th>\n",
       "      <td>5</td>\n",
       "      <td>False</td>\n",
       "      <td>06 21, 2000</td>\n",
       "      <td>A3M6WX5YHN7BPU</td>\n",
       "      <td>B00004OCIP</td>\n",
       "      <td>McKinney Reader</td>\n",
       "      <td>I tried this in a kitchen store, bought it imm...</td>\n",
       "      <td>The BEST!</td>\n",
       "      <td>961545600</td>\n",
       "      <td>NaN</td>\n",
       "      <td>{'Style Name:': ' Swivel Peeler'}</td>\n",
       "      <td>NaN</td>\n",
       "      <td>B00004OCIP</td>\n",
       "    </tr>\n",
       "    <tr>\n",
       "      <th>7808</th>\n",
       "      <td>5</td>\n",
       "      <td>True</td>\n",
       "      <td>05 10, 2018</td>\n",
       "      <td>A2ZNCSSFMLXRBJ</td>\n",
       "      <td>B00004OCIP</td>\n",
       "      <td>Puddletown Sue</td>\n",
       "      <td>I love this peeler. I peel a lot of carrots an...</td>\n",
       "      <td>Great peeler</td>\n",
       "      <td>1525910400</td>\n",
       "      <td>NaN</td>\n",
       "      <td>{'Style Name:': ' Swivel Peeler'}</td>\n",
       "      <td>NaN</td>\n",
       "      <td>B00004OCIP</td>\n",
       "    </tr>\n",
       "    <tr>\n",
       "      <th>7809</th>\n",
       "      <td>5</td>\n",
       "      <td>True</td>\n",
       "      <td>05 9, 2018</td>\n",
       "      <td>A5EPN0VVF9EHZ</td>\n",
       "      <td>B00004OCIP</td>\n",
       "      <td>Steven</td>\n",
       "      <td>I've been using one of those apple corer/peele...</td>\n",
       "      <td>WHY DIDN'T I GET THIS SOONER?</td>\n",
       "      <td>1525824000</td>\n",
       "      <td>NaN</td>\n",
       "      <td>{'Style Name:': ' Apple Corer'}</td>\n",
       "      <td>NaN</td>\n",
       "      <td>B00004OCIP</td>\n",
       "    </tr>\n",
       "    <tr>\n",
       "      <th>7810</th>\n",
       "      <td>5</td>\n",
       "      <td>True</td>\n",
       "      <td>05 6, 2018</td>\n",
       "      <td>A125B1X0QE6FCV</td>\n",
       "      <td>B00004OCIP</td>\n",
       "      <td>Kindle Customer</td>\n",
       "      <td>I love this peeler. It feels good in my hands,...</td>\n",
       "      <td>Comfortable</td>\n",
       "      <td>1525564800</td>\n",
       "      <td>NaN</td>\n",
       "      <td>{'Style Name:': ' Swivel Peeler'}</td>\n",
       "      <td>NaN</td>\n",
       "      <td>B00004OCIP</td>\n",
       "    </tr>\n",
       "  </tbody>\n",
       "</table>\n",
       "</div>"
      ],
      "text/plain": [
       "      overall  verified   reviewTime      reviewerID        asin  \\\n",
       "7806        5     False  09 18, 2000  A2Q89DEW2Y91A7  B00004OCIP   \n",
       "7807        5     False  06 21, 2000  A3M6WX5YHN7BPU  B00004OCIP   \n",
       "7808        5      True  05 10, 2018  A2ZNCSSFMLXRBJ  B00004OCIP   \n",
       "7809        5      True   05 9, 2018   A5EPN0VVF9EHZ  B00004OCIP   \n",
       "7810        5      True   05 6, 2018  A125B1X0QE6FCV  B00004OCIP   \n",
       "\n",
       "         reviewerName                                         reviewText  \\\n",
       "7806   Cynthia Raxter  It is rare when $5.99 can make you happy! This...   \n",
       "7807  McKinney Reader  I tried this in a kitchen store, bought it imm...   \n",
       "7808   Puddletown Sue  I love this peeler. I peel a lot of carrots an...   \n",
       "7809           Steven  I've been using one of those apple corer/peele...   \n",
       "7810  Kindle Customer  I love this peeler. It feels good in my hands,...   \n",
       "\n",
       "                            summary  unixReviewTime vote  \\\n",
       "7806     My favorite kitchen gadget       969235200  6.0   \n",
       "7807                      The BEST!       961545600  NaN   \n",
       "7808                   Great peeler      1525910400  NaN   \n",
       "7809  WHY DIDN'T I GET THIS SOONER?      1525824000  NaN   \n",
       "7810                    Comfortable      1525564800  NaN   \n",
       "\n",
       "                                  style image unique_asin  \n",
       "7806  {'Style Name:': ' Swivel Peeler'}   NaN  B00004OCIP  \n",
       "7807  {'Style Name:': ' Swivel Peeler'}   NaN  B00004OCIP  \n",
       "7808  {'Style Name:': ' Swivel Peeler'}   NaN  B00004OCIP  \n",
       "7809    {'Style Name:': ' Apple Corer'}   NaN  B00004OCIP  \n",
       "7810  {'Style Name:': ' Swivel Peeler'}   NaN  B00004OCIP  "
      ]
     },
     "execution_count": 250,
     "metadata": {},
     "output_type": "execute_result"
    }
   ],
   "source": [
    "rel_5_review.head()"
   ]
  },
  {
   "cell_type": "code",
   "execution_count": null,
   "id": "89c6d7cb",
   "metadata": {},
   "outputs": [],
   "source": []
  },
  {
   "cell_type": "code",
   "execution_count": 251,
   "id": "de2106d2",
   "metadata": {},
   "outputs": [],
   "source": [
    "high_review = pd.read_pickle(\"./high_rev_asin_freq.pkl\")"
   ]
  },
  {
   "cell_type": "code",
   "execution_count": 252,
   "id": "67286cac",
   "metadata": {},
   "outputs": [
    {
     "data": {
      "text/plain": [
       "(191, 12)"
      ]
     },
     "execution_count": 252,
     "metadata": {},
     "output_type": "execute_result"
    }
   ],
   "source": [
    "high_review.shape"
   ]
  },
  {
   "cell_type": "code",
   "execution_count": 253,
   "id": "7ed9f461",
   "metadata": {},
   "outputs": [],
   "source": [
    "#high_review.head(20)"
   ]
  },
  {
   "cell_type": "code",
   "execution_count": 254,
   "id": "e431443c",
   "metadata": {},
   "outputs": [],
   "source": [
    "high_review_meta = pd.read_excel('high_review_meta.xlsx')"
   ]
  },
  {
   "cell_type": "code",
   "execution_count": 255,
   "id": "a93d1baa",
   "metadata": {},
   "outputs": [
    {
     "data": {
      "text/plain": [
       "(160, 21)"
      ]
     },
     "execution_count": 255,
     "metadata": {},
     "output_type": "execute_result"
    }
   ],
   "source": [
    "high_review_meta.shape"
   ]
  },
  {
   "cell_type": "code",
   "execution_count": 256,
   "id": "a3a7dec1",
   "metadata": {},
   "outputs": [
    {
     "data": {
      "text/html": [
       "<div>\n",
       "<style scoped>\n",
       "    .dataframe tbody tr th:only-of-type {\n",
       "        vertical-align: middle;\n",
       "    }\n",
       "\n",
       "    .dataframe tbody tr th {\n",
       "        vertical-align: top;\n",
       "    }\n",
       "\n",
       "    .dataframe thead th {\n",
       "        text-align: right;\n",
       "    }\n",
       "</style>\n",
       "<table border=\"1\" class=\"dataframe\">\n",
       "  <thead>\n",
       "    <tr style=\"text-align: right;\">\n",
       "      <th></th>\n",
       "      <th>Unnamed: 0</th>\n",
       "      <th>category</th>\n",
       "      <th>tech1</th>\n",
       "      <th>description</th>\n",
       "      <th>fit</th>\n",
       "      <th>title</th>\n",
       "      <th>also_buy</th>\n",
       "      <th>tech2</th>\n",
       "      <th>brand</th>\n",
       "      <th>feature</th>\n",
       "      <th>...</th>\n",
       "      <th>also_view</th>\n",
       "      <th>main_cat</th>\n",
       "      <th>similar_item</th>\n",
       "      <th>date</th>\n",
       "      <th>price</th>\n",
       "      <th>asin</th>\n",
       "      <th>imageURL</th>\n",
       "      <th>imageURLHighRes</th>\n",
       "      <th>details</th>\n",
       "      <th>unique_asin</th>\n",
       "    </tr>\n",
       "  </thead>\n",
       "  <tbody>\n",
       "    <tr>\n",
       "      <th>0</th>\n",
       "      <td>755</td>\n",
       "      <td>['Home &amp; Kitchen', 'Kitchen &amp; Dining', 'Kitche...</td>\n",
       "      <td>NaN</td>\n",
       "      <td>['OXO International Good Grips Swivel Vegetabl...</td>\n",
       "      <td>NaN</td>\n",
       "      <td>OXO Good Grips Swivel Peeler</td>\n",
       "      <td>['B00004OCIU', 'B004YZENBY', 'B011B8M2GO', 'B0...</td>\n",
       "      <td>NaN</td>\n",
       "      <td>OXO</td>\n",
       "      <td>['Swiveling twin blades with flexible action e...</td>\n",
       "      <td>...</td>\n",
       "      <td>[]</td>\n",
       "      <td>Amazon Home</td>\n",
       "      <td>class=\"a-bordered a-horizontal-stripes  a-spa...</td>\n",
       "      <td>April 26, 2000</td>\n",
       "      <td>8.99</td>\n",
       "      <td>B00004OCIP</td>\n",
       "      <td>['https://images-na.ssl-images-amazon.com/imag...</td>\n",
       "      <td>['https://images-na.ssl-images-amazon.com/imag...</td>\n",
       "      <td>{}</td>\n",
       "      <td>B00004OCIP</td>\n",
       "    </tr>\n",
       "    <tr>\n",
       "      <th>1</th>\n",
       "      <td>773</td>\n",
       "      <td>['Home &amp; Kitchen', 'Kitchen &amp; Dining', 'Kitche...</td>\n",
       "      <td>NaN</td>\n",
       "      <td>['A new spin on our classic design Before the ...</td>\n",
       "      <td>NaN</td>\n",
       "      <td>OXO Good Grips Salad Spinner, Medium, Clear</td>\n",
       "      <td>['B003L0OOR6', 'B000HCBDF2', 'B002MQ3SOA', 'B0...</td>\n",
       "      <td>NaN</td>\n",
       "      <td>OXO</td>\n",
       "      <td>['Easy, one-handed operation with patented pum...</td>\n",
       "      <td>...</td>\n",
       "      <td>[]</td>\n",
       "      <td>Amazon Home</td>\n",
       "      <td>NaN</td>\n",
       "      <td>May 20, 2013</td>\n",
       "      <td>25.49</td>\n",
       "      <td>B00004OCKR</td>\n",
       "      <td>['https://images-na.ssl-images-amazon.com/imag...</td>\n",
       "      <td>['https://images-na.ssl-images-amazon.com/imag...</td>\n",
       "      <td>{}</td>\n",
       "      <td>B00004OCKR</td>\n",
       "    </tr>\n",
       "    <tr>\n",
       "      <th>2</th>\n",
       "      <td>1151</td>\n",
       "      <td>['Home &amp; Kitchen', 'Kitchen &amp; Dining', 'Coffee...</td>\n",
       "      <td>NaN</td>\n",
       "      <td>['The Moka Express, made by Bialetti in Italy,...</td>\n",
       "      <td>NaN</td>\n",
       "      <td>Bialetti Moka Express 9 cup Espresso Maker</td>\n",
       "      <td>['B000CRH4FK', 'B000VJ8FEI', 'B000FDL588', 'B0...</td>\n",
       "      <td>NaN</td>\n",
       "      <td>Bialetti</td>\n",
       "      <td>['Produces 9 demitasse (2 ounce) cups of rich,...</td>\n",
       "      <td>...</td>\n",
       "      <td>[]</td>\n",
       "      <td>Amazon Home</td>\n",
       "      <td>class=\"a-bordered a-horizontal-stripes  a-spa...</td>\n",
       "      <td>NaN</td>\n",
       "      <td>4.31</td>\n",
       "      <td>B00004RFRV</td>\n",
       "      <td>['https://images-na.ssl-images-amazon.com/imag...</td>\n",
       "      <td>['https://images-na.ssl-images-amazon.com/imag...</td>\n",
       "      <td>{}</td>\n",
       "      <td>B00004RFRV</td>\n",
       "    </tr>\n",
       "    <tr>\n",
       "      <th>3</th>\n",
       "      <td>1772</td>\n",
       "      <td>['Home &amp; Kitchen', 'Kitchen &amp; Dining', 'Kitche...</td>\n",
       "      <td>NaN</td>\n",
       "      <td>['Misto Brushed Aluminum Olive Oil Sprayer', \"...</td>\n",
       "      <td>NaN</td>\n",
       "      <td>Misto Brushed Aluminum Olive Oil Sprayer</td>\n",
       "      <td>['B00629JRL6', '0982754043', 'B0091HV160', 'B0...</td>\n",
       "      <td>NaN</td>\n",
       "      <td>Misto</td>\n",
       "      <td>['MISTO is a reusable oil spray and mister bot...</td>\n",
       "      <td>...</td>\n",
       "      <td>['B00629JRL6', 'B07176TW3F', 'B076Q7VWFZ', 'B0...</td>\n",
       "      <td>Amazon Home</td>\n",
       "      <td>class=\"a-bordered a-horizontal-stripes  a-spa...</td>\n",
       "      <td>April 26, 2000</td>\n",
       "      <td>9.26</td>\n",
       "      <td>B00004SPZV</td>\n",
       "      <td>['https://images-na.ssl-images-amazon.com/imag...</td>\n",
       "      <td>['https://images-na.ssl-images-amazon.com/imag...</td>\n",
       "      <td>{}</td>\n",
       "      <td>B00004SPZV</td>\n",
       "    </tr>\n",
       "    <tr>\n",
       "      <th>4</th>\n",
       "      <td>2033</td>\n",
       "      <td>['Home &amp; Kitchen', 'Kitchen &amp; Dining']</td>\n",
       "      <td>NaN</td>\n",
       "      <td>['Finally, a knife sharpener anyone can use! i...</td>\n",
       "      <td>NaN</td>\n",
       "      <td>AccuSharp 001C Knife Sharpener</td>\n",
       "      <td>['B0001WOVFM', 'B008M5U1C2', 'B006PTLPC2', 'B0...</td>\n",
       "      <td>NaN</td>\n",
       "      <td>AccuSharp</td>\n",
       "      <td>['Made of highest quality material', 'Manufact...</td>\n",
       "      <td>...</td>\n",
       "      <td>[]</td>\n",
       "      <td>Tools &amp; Home Improvement</td>\n",
       "      <td>NaN</td>\n",
       "      <td>NaN</td>\n",
       "      <td>9.47</td>\n",
       "      <td>B00004VWKQ</td>\n",
       "      <td>['https://images-na.ssl-images-amazon.com/imag...</td>\n",
       "      <td>['https://images-na.ssl-images-amazon.com/imag...</td>\n",
       "      <td>{}</td>\n",
       "      <td>B00004VWKQ</td>\n",
       "    </tr>\n",
       "  </tbody>\n",
       "</table>\n",
       "<p>5 rows × 21 columns</p>\n",
       "</div>"
      ],
      "text/plain": [
       "   Unnamed: 0                                           category tech1  \\\n",
       "0         755  ['Home & Kitchen', 'Kitchen & Dining', 'Kitche...   NaN   \n",
       "1         773  ['Home & Kitchen', 'Kitchen & Dining', 'Kitche...   NaN   \n",
       "2        1151  ['Home & Kitchen', 'Kitchen & Dining', 'Coffee...   NaN   \n",
       "3        1772  ['Home & Kitchen', 'Kitchen & Dining', 'Kitche...   NaN   \n",
       "4        2033             ['Home & Kitchen', 'Kitchen & Dining']   NaN   \n",
       "\n",
       "                                         description  fit  \\\n",
       "0  ['OXO International Good Grips Swivel Vegetabl...  NaN   \n",
       "1  ['A new spin on our classic design Before the ...  NaN   \n",
       "2  ['The Moka Express, made by Bialetti in Italy,...  NaN   \n",
       "3  ['Misto Brushed Aluminum Olive Oil Sprayer', \"...  NaN   \n",
       "4  ['Finally, a knife sharpener anyone can use! i...  NaN   \n",
       "\n",
       "                                         title  \\\n",
       "0                 OXO Good Grips Swivel Peeler   \n",
       "1  OXO Good Grips Salad Spinner, Medium, Clear   \n",
       "2   Bialetti Moka Express 9 cup Espresso Maker   \n",
       "3     Misto Brushed Aluminum Olive Oil Sprayer   \n",
       "4               AccuSharp 001C Knife Sharpener   \n",
       "\n",
       "                                            also_buy  tech2      brand  \\\n",
       "0  ['B00004OCIU', 'B004YZENBY', 'B011B8M2GO', 'B0...    NaN        OXO   \n",
       "1  ['B003L0OOR6', 'B000HCBDF2', 'B002MQ3SOA', 'B0...    NaN        OXO   \n",
       "2  ['B000CRH4FK', 'B000VJ8FEI', 'B000FDL588', 'B0...    NaN   Bialetti   \n",
       "3  ['B00629JRL6', '0982754043', 'B0091HV160', 'B0...    NaN      Misto   \n",
       "4  ['B0001WOVFM', 'B008M5U1C2', 'B006PTLPC2', 'B0...    NaN  AccuSharp   \n",
       "\n",
       "                                             feature  ...  \\\n",
       "0  ['Swiveling twin blades with flexible action e...  ...   \n",
       "1  ['Easy, one-handed operation with patented pum...  ...   \n",
       "2  ['Produces 9 demitasse (2 ounce) cups of rich,...  ...   \n",
       "3  ['MISTO is a reusable oil spray and mister bot...  ...   \n",
       "4  ['Made of highest quality material', 'Manufact...  ...   \n",
       "\n",
       "                                           also_view  \\\n",
       "0                                                 []   \n",
       "1                                                 []   \n",
       "2                                                 []   \n",
       "3  ['B00629JRL6', 'B07176TW3F', 'B076Q7VWFZ', 'B0...   \n",
       "4                                                 []   \n",
       "\n",
       "                   main_cat  \\\n",
       "0               Amazon Home   \n",
       "1               Amazon Home   \n",
       "2               Amazon Home   \n",
       "3               Amazon Home   \n",
       "4  Tools & Home Improvement   \n",
       "\n",
       "                                        similar_item            date  price  \\\n",
       "0   class=\"a-bordered a-horizontal-stripes  a-spa...  April 26, 2000   8.99   \n",
       "1                                                NaN    May 20, 2013  25.49   \n",
       "2   class=\"a-bordered a-horizontal-stripes  a-spa...             NaN   4.31   \n",
       "3   class=\"a-bordered a-horizontal-stripes  a-spa...  April 26, 2000   9.26   \n",
       "4                                                NaN             NaN   9.47   \n",
       "\n",
       "         asin                                           imageURL  \\\n",
       "0  B00004OCIP  ['https://images-na.ssl-images-amazon.com/imag...   \n",
       "1  B00004OCKR  ['https://images-na.ssl-images-amazon.com/imag...   \n",
       "2  B00004RFRV  ['https://images-na.ssl-images-amazon.com/imag...   \n",
       "3  B00004SPZV  ['https://images-na.ssl-images-amazon.com/imag...   \n",
       "4  B00004VWKQ  ['https://images-na.ssl-images-amazon.com/imag...   \n",
       "\n",
       "                                     imageURLHighRes details unique_asin  \n",
       "0  ['https://images-na.ssl-images-amazon.com/imag...      {}  B00004OCIP  \n",
       "1  ['https://images-na.ssl-images-amazon.com/imag...      {}  B00004OCKR  \n",
       "2  ['https://images-na.ssl-images-amazon.com/imag...      {}  B00004RFRV  \n",
       "3  ['https://images-na.ssl-images-amazon.com/imag...      {}  B00004SPZV  \n",
       "4  ['https://images-na.ssl-images-amazon.com/imag...      {}  B00004VWKQ  \n",
       "\n",
       "[5 rows x 21 columns]"
      ]
     },
     "execution_count": 256,
     "metadata": {},
     "output_type": "execute_result"
    }
   ],
   "source": [
    "high_review_meta.head()"
   ]
  },
  {
   "cell_type": "code",
   "execution_count": 257,
   "id": "1c05e30c",
   "metadata": {},
   "outputs": [],
   "source": [
    "#my blender assin: B006JXSCFC"
   ]
  },
  {
   "cell_type": "code",
   "execution_count": 258,
   "id": "dc0fd00c",
   "metadata": {},
   "outputs": [],
   "source": [
    "rel_5_review_hoss_blender=rel_5_review[rel_5_review.unique_asin == 'B006JXSCFC']"
   ]
  },
  {
   "cell_type": "code",
   "execution_count": 259,
   "id": "3c2830f0",
   "metadata": {},
   "outputs": [
    {
     "data": {
      "text/plain": [
       "(1668, 13)"
      ]
     },
     "execution_count": 259,
     "metadata": {},
     "output_type": "execute_result"
    }
   ],
   "source": [
    "rel_5_review_hoss_blender.shape"
   ]
  },
  {
   "cell_type": "code",
   "execution_count": 260,
   "id": "248b4f67",
   "metadata": {},
   "outputs": [
    {
     "data": {
      "text/html": [
       "<div>\n",
       "<style scoped>\n",
       "    .dataframe tbody tr th:only-of-type {\n",
       "        vertical-align: middle;\n",
       "    }\n",
       "\n",
       "    .dataframe tbody tr th {\n",
       "        vertical-align: top;\n",
       "    }\n",
       "\n",
       "    .dataframe thead th {\n",
       "        text-align: right;\n",
       "    }\n",
       "</style>\n",
       "<table border=\"1\" class=\"dataframe\">\n",
       "  <thead>\n",
       "    <tr style=\"text-align: right;\">\n",
       "      <th></th>\n",
       "      <th>overall</th>\n",
       "      <th>verified</th>\n",
       "      <th>reviewTime</th>\n",
       "      <th>reviewerID</th>\n",
       "      <th>asin</th>\n",
       "      <th>reviewerName</th>\n",
       "      <th>reviewText</th>\n",
       "      <th>summary</th>\n",
       "      <th>unixReviewTime</th>\n",
       "      <th>vote</th>\n",
       "      <th>style</th>\n",
       "      <th>image</th>\n",
       "      <th>unique_asin</th>\n",
       "    </tr>\n",
       "  </thead>\n",
       "  <tbody>\n",
       "    <tr>\n",
       "      <th>2715149</th>\n",
       "      <td>2</td>\n",
       "      <td>True</td>\n",
       "      <td>01 7, 2013</td>\n",
       "      <td>ALUL231E5HDUT</td>\n",
       "      <td>B006JXSCFC</td>\n",
       "      <td>rich1896</td>\n",
       "      <td>The lid leaks, and it seems to be a design fla...</td>\n",
       "      <td>lid leaks, poorly designed</td>\n",
       "      <td>1357516800</td>\n",
       "      <td>13.0</td>\n",
       "      <td>NaN</td>\n",
       "      <td>NaN</td>\n",
       "      <td>B006JXSCFC</td>\n",
       "    </tr>\n",
       "    <tr>\n",
       "      <th>2715150</th>\n",
       "      <td>5</td>\n",
       "      <td>True</td>\n",
       "      <td>01 2, 2013</td>\n",
       "      <td>AXFRKNJ1F5MF0</td>\n",
       "      <td>B006JXSCFC</td>\n",
       "      <td>Alvin E.</td>\n",
       "      <td>This is a strong blender.but  the only thing  ...</td>\n",
       "      <td>this is wonderful blender</td>\n",
       "      <td>1357084800</td>\n",
       "      <td>29.0</td>\n",
       "      <td>NaN</td>\n",
       "      <td>NaN</td>\n",
       "      <td>B006JXSCFC</td>\n",
       "    </tr>\n",
       "    <tr>\n",
       "      <th>2715151</th>\n",
       "      <td>5</td>\n",
       "      <td>True</td>\n",
       "      <td>12 30, 2012</td>\n",
       "      <td>A520MCDS0XHID</td>\n",
       "      <td>B006JXSCFC</td>\n",
       "      <td>Equx4567</td>\n",
       "      <td>I bought this for my sister in law for christm...</td>\n",
       "      <td>Hamition Beach blender and chopper</td>\n",
       "      <td>1356825600</td>\n",
       "      <td>NaN</td>\n",
       "      <td>NaN</td>\n",
       "      <td>NaN</td>\n",
       "      <td>B006JXSCFC</td>\n",
       "    </tr>\n",
       "    <tr>\n",
       "      <th>2715152</th>\n",
       "      <td>5</td>\n",
       "      <td>True</td>\n",
       "      <td>12 12, 2012</td>\n",
       "      <td>A2Z9S2RQD542CP</td>\n",
       "      <td>B006JXSCFC</td>\n",
       "      <td>Eduardo Placido</td>\n",
       "      <td>This Hamilton Beach Blender is amazing! It loo...</td>\n",
       "      <td>Great Blender + Chopper</td>\n",
       "      <td>1355270400</td>\n",
       "      <td>402.0</td>\n",
       "      <td>NaN</td>\n",
       "      <td>NaN</td>\n",
       "      <td>B006JXSCFC</td>\n",
       "    </tr>\n",
       "    <tr>\n",
       "      <th>2715153</th>\n",
       "      <td>5</td>\n",
       "      <td>False</td>\n",
       "      <td>12 12, 2012</td>\n",
       "      <td>A2S6QCNNN8AK91</td>\n",
       "      <td>B006JXSCFC</td>\n",
       "      <td>Denyse</td>\n",
       "      <td>I bought this blender because I wanted to star...</td>\n",
       "      <td>great for the price</td>\n",
       "      <td>1355270400</td>\n",
       "      <td>169.0</td>\n",
       "      <td>NaN</td>\n",
       "      <td>NaN</td>\n",
       "      <td>B006JXSCFC</td>\n",
       "    </tr>\n",
       "    <tr>\n",
       "      <th>...</th>\n",
       "      <td>...</td>\n",
       "      <td>...</td>\n",
       "      <td>...</td>\n",
       "      <td>...</td>\n",
       "      <td>...</td>\n",
       "      <td>...</td>\n",
       "      <td>...</td>\n",
       "      <td>...</td>\n",
       "      <td>...</td>\n",
       "      <td>...</td>\n",
       "      <td>...</td>\n",
       "      <td>...</td>\n",
       "      <td>...</td>\n",
       "    </tr>\n",
       "    <tr>\n",
       "      <th>2717509</th>\n",
       "      <td>5</td>\n",
       "      <td>True</td>\n",
       "      <td>02 17, 2013</td>\n",
       "      <td>A2GWR6B91XX0C5</td>\n",
       "      <td>B006JXSCFC</td>\n",
       "      <td>Gandhawk</td>\n",
       "      <td>I use this for Juicing.  That is why I wanted ...</td>\n",
       "      <td>Great blender</td>\n",
       "      <td>1361059200</td>\n",
       "      <td>NaN</td>\n",
       "      <td>NaN</td>\n",
       "      <td>NaN</td>\n",
       "      <td>B006JXSCFC</td>\n",
       "    </tr>\n",
       "    <tr>\n",
       "      <th>2717510</th>\n",
       "      <td>5</td>\n",
       "      <td>True</td>\n",
       "      <td>02 14, 2013</td>\n",
       "      <td>A248A7KZLEWU8</td>\n",
       "      <td>B006JXSCFC</td>\n",
       "      <td>Drew McDermitt</td>\n",
       "      <td>Great Blender, Plenty of options for settings,...</td>\n",
       "      <td>Legit Blender, Chopper a bonus</td>\n",
       "      <td>1360800000</td>\n",
       "      <td>NaN</td>\n",
       "      <td>NaN</td>\n",
       "      <td>NaN</td>\n",
       "      <td>B006JXSCFC</td>\n",
       "    </tr>\n",
       "    <tr>\n",
       "      <th>2717511</th>\n",
       "      <td>5</td>\n",
       "      <td>True</td>\n",
       "      <td>02 9, 2013</td>\n",
       "      <td>A2DTKBHQ37P0LM</td>\n",
       "      <td>B006JXSCFC</td>\n",
       "      <td>Kat</td>\n",
       "      <td>Good blender and alot quieter than old one. cr...</td>\n",
       "      <td>powerful blender</td>\n",
       "      <td>1360368000</td>\n",
       "      <td>NaN</td>\n",
       "      <td>NaN</td>\n",
       "      <td>NaN</td>\n",
       "      <td>B006JXSCFC</td>\n",
       "    </tr>\n",
       "    <tr>\n",
       "      <th>2717512</th>\n",
       "      <td>4</td>\n",
       "      <td>True</td>\n",
       "      <td>02 1, 2013</td>\n",
       "      <td>A374YP05CTGZA4</td>\n",
       "      <td>B006JXSCFC</td>\n",
       "      <td>Masta&amp;#039; C</td>\n",
       "      <td>I am quite satisfied with this blender/chopper...</td>\n",
       "      <td>The \"Wave\" action is great...when it works.  S...</td>\n",
       "      <td>1359676800</td>\n",
       "      <td>110</td>\n",
       "      <td>NaN</td>\n",
       "      <td>NaN</td>\n",
       "      <td>B006JXSCFC</td>\n",
       "    </tr>\n",
       "    <tr>\n",
       "      <th>2717513</th>\n",
       "      <td>5</td>\n",
       "      <td>True</td>\n",
       "      <td>01 29, 2013</td>\n",
       "      <td>A95A9XOSHTQKX</td>\n",
       "      <td>B006JXSCFC</td>\n",
       "      <td>YeahSoMaybe?</td>\n",
       "      <td>My older Hamilton Beach blender was dying.  I ...</td>\n",
       "      <td>Solid, serviceable blender for very little money</td>\n",
       "      <td>1359417600</td>\n",
       "      <td>1,035</td>\n",
       "      <td>NaN</td>\n",
       "      <td>NaN</td>\n",
       "      <td>B006JXSCFC</td>\n",
       "    </tr>\n",
       "  </tbody>\n",
       "</table>\n",
       "<p>1668 rows × 13 columns</p>\n",
       "</div>"
      ],
      "text/plain": [
       "         overall  verified   reviewTime      reviewerID        asin  \\\n",
       "2715149        2      True   01 7, 2013   ALUL231E5HDUT  B006JXSCFC   \n",
       "2715150        5      True   01 2, 2013   AXFRKNJ1F5MF0  B006JXSCFC   \n",
       "2715151        5      True  12 30, 2012   A520MCDS0XHID  B006JXSCFC   \n",
       "2715152        5      True  12 12, 2012  A2Z9S2RQD542CP  B006JXSCFC   \n",
       "2715153        5     False  12 12, 2012  A2S6QCNNN8AK91  B006JXSCFC   \n",
       "...          ...       ...          ...             ...         ...   \n",
       "2717509        5      True  02 17, 2013  A2GWR6B91XX0C5  B006JXSCFC   \n",
       "2717510        5      True  02 14, 2013   A248A7KZLEWU8  B006JXSCFC   \n",
       "2717511        5      True   02 9, 2013  A2DTKBHQ37P0LM  B006JXSCFC   \n",
       "2717512        4      True   02 1, 2013  A374YP05CTGZA4  B006JXSCFC   \n",
       "2717513        5      True  01 29, 2013   A95A9XOSHTQKX  B006JXSCFC   \n",
       "\n",
       "            reviewerName                                         reviewText  \\\n",
       "2715149         rich1896  The lid leaks, and it seems to be a design fla...   \n",
       "2715150         Alvin E.  This is a strong blender.but  the only thing  ...   \n",
       "2715151         Equx4567  I bought this for my sister in law for christm...   \n",
       "2715152  Eduardo Placido  This Hamilton Beach Blender is amazing! It loo...   \n",
       "2715153           Denyse  I bought this blender because I wanted to star...   \n",
       "...                  ...                                                ...   \n",
       "2717509         Gandhawk  I use this for Juicing.  That is why I wanted ...   \n",
       "2717510   Drew McDermitt  Great Blender, Plenty of options for settings,...   \n",
       "2717511              Kat  Good blender and alot quieter than old one. cr...   \n",
       "2717512    Masta&#039; C  I am quite satisfied with this blender/chopper...   \n",
       "2717513     YeahSoMaybe?  My older Hamilton Beach blender was dying.  I ...   \n",
       "\n",
       "                                                   summary  unixReviewTime  \\\n",
       "2715149                         lid leaks, poorly designed      1357516800   \n",
       "2715150                          this is wonderful blender      1357084800   \n",
       "2715151                 Hamition Beach blender and chopper      1356825600   \n",
       "2715152                            Great Blender + Chopper      1355270400   \n",
       "2715153                                great for the price      1355270400   \n",
       "...                                                    ...             ...   \n",
       "2717509                                      Great blender      1361059200   \n",
       "2717510                     Legit Blender, Chopper a bonus      1360800000   \n",
       "2717511                                   powerful blender      1360368000   \n",
       "2717512  The \"Wave\" action is great...when it works.  S...      1359676800   \n",
       "2717513   Solid, serviceable blender for very little money      1359417600   \n",
       "\n",
       "          vote style image unique_asin  \n",
       "2715149   13.0   NaN   NaN  B006JXSCFC  \n",
       "2715150   29.0   NaN   NaN  B006JXSCFC  \n",
       "2715151    NaN   NaN   NaN  B006JXSCFC  \n",
       "2715152  402.0   NaN   NaN  B006JXSCFC  \n",
       "2715153  169.0   NaN   NaN  B006JXSCFC  \n",
       "...        ...   ...   ...         ...  \n",
       "2717509    NaN   NaN   NaN  B006JXSCFC  \n",
       "2717510    NaN   NaN   NaN  B006JXSCFC  \n",
       "2717511    NaN   NaN   NaN  B006JXSCFC  \n",
       "2717512    110   NaN   NaN  B006JXSCFC  \n",
       "2717513  1,035   NaN   NaN  B006JXSCFC  \n",
       "\n",
       "[1668 rows x 13 columns]"
      ]
     },
     "execution_count": 260,
     "metadata": {},
     "output_type": "execute_result"
    }
   ],
   "source": [
    "rel_5_review_hoss_blender"
   ]
  },
  {
   "cell_type": "code",
   "execution_count": 261,
   "id": "1f52ca4c",
   "metadata": {},
   "outputs": [],
   "source": [
    "# Remove any 'neutral' ratings equal to 3\n",
    "rel_5_review_hoss_blender = rel_5_review_hoss_blender[rel_5_review_hoss_blender['overall'] != 3]"
   ]
  },
  {
   "cell_type": "code",
   "execution_count": 262,
   "id": "508a99ab",
   "metadata": {},
   "outputs": [
    {
     "data": {
      "text/plain": [
       "(1495, 13)"
      ]
     },
     "execution_count": 262,
     "metadata": {},
     "output_type": "execute_result"
    }
   ],
   "source": [
    "rel_5_review_hoss_blender.shape"
   ]
  },
  {
   "cell_type": "code",
   "execution_count": 263,
   "id": "dbdfaac2",
   "metadata": {},
   "outputs": [
    {
     "name": "stderr",
     "output_type": "stream",
     "text": [
      "/tmp/ipykernel_264413/2641760075.py:3: SettingWithCopyWarning: \n",
      "A value is trying to be set on a copy of a slice from a DataFrame.\n",
      "Try using .loc[row_indexer,col_indexer] = value instead\n",
      "\n",
      "See the caveats in the documentation: https://pandas.pydata.org/pandas-docs/stable/user_guide/indexing.html#returning-a-view-versus-a-copy\n",
      "  rel_5_review_hoss_blender['Positively Rated']=np.where(rel_5_review_hoss_blender['overall']>3,1,0)\n"
     ]
    },
    {
     "data": {
      "text/html": [
       "<div>\n",
       "<style scoped>\n",
       "    .dataframe tbody tr th:only-of-type {\n",
       "        vertical-align: middle;\n",
       "    }\n",
       "\n",
       "    .dataframe tbody tr th {\n",
       "        vertical-align: top;\n",
       "    }\n",
       "\n",
       "    .dataframe thead th {\n",
       "        text-align: right;\n",
       "    }\n",
       "</style>\n",
       "<table border=\"1\" class=\"dataframe\">\n",
       "  <thead>\n",
       "    <tr style=\"text-align: right;\">\n",
       "      <th></th>\n",
       "      <th>overall</th>\n",
       "      <th>verified</th>\n",
       "      <th>reviewTime</th>\n",
       "      <th>reviewerID</th>\n",
       "      <th>asin</th>\n",
       "      <th>reviewerName</th>\n",
       "      <th>reviewText</th>\n",
       "      <th>summary</th>\n",
       "      <th>unixReviewTime</th>\n",
       "      <th>vote</th>\n",
       "      <th>style</th>\n",
       "      <th>image</th>\n",
       "      <th>unique_asin</th>\n",
       "      <th>Positively Rated</th>\n",
       "    </tr>\n",
       "  </thead>\n",
       "  <tbody>\n",
       "    <tr>\n",
       "      <th>2715149</th>\n",
       "      <td>2</td>\n",
       "      <td>True</td>\n",
       "      <td>01 7, 2013</td>\n",
       "      <td>ALUL231E5HDUT</td>\n",
       "      <td>B006JXSCFC</td>\n",
       "      <td>rich1896</td>\n",
       "      <td>The lid leaks, and it seems to be a design fla...</td>\n",
       "      <td>lid leaks, poorly designed</td>\n",
       "      <td>1357516800</td>\n",
       "      <td>13.0</td>\n",
       "      <td>NaN</td>\n",
       "      <td>NaN</td>\n",
       "      <td>B006JXSCFC</td>\n",
       "      <td>0</td>\n",
       "    </tr>\n",
       "    <tr>\n",
       "      <th>2715150</th>\n",
       "      <td>5</td>\n",
       "      <td>True</td>\n",
       "      <td>01 2, 2013</td>\n",
       "      <td>AXFRKNJ1F5MF0</td>\n",
       "      <td>B006JXSCFC</td>\n",
       "      <td>Alvin E.</td>\n",
       "      <td>This is a strong blender.but  the only thing  ...</td>\n",
       "      <td>this is wonderful blender</td>\n",
       "      <td>1357084800</td>\n",
       "      <td>29.0</td>\n",
       "      <td>NaN</td>\n",
       "      <td>NaN</td>\n",
       "      <td>B006JXSCFC</td>\n",
       "      <td>1</td>\n",
       "    </tr>\n",
       "    <tr>\n",
       "      <th>2715151</th>\n",
       "      <td>5</td>\n",
       "      <td>True</td>\n",
       "      <td>12 30, 2012</td>\n",
       "      <td>A520MCDS0XHID</td>\n",
       "      <td>B006JXSCFC</td>\n",
       "      <td>Equx4567</td>\n",
       "      <td>I bought this for my sister in law for christm...</td>\n",
       "      <td>Hamition Beach blender and chopper</td>\n",
       "      <td>1356825600</td>\n",
       "      <td>NaN</td>\n",
       "      <td>NaN</td>\n",
       "      <td>NaN</td>\n",
       "      <td>B006JXSCFC</td>\n",
       "      <td>1</td>\n",
       "    </tr>\n",
       "    <tr>\n",
       "      <th>2715152</th>\n",
       "      <td>5</td>\n",
       "      <td>True</td>\n",
       "      <td>12 12, 2012</td>\n",
       "      <td>A2Z9S2RQD542CP</td>\n",
       "      <td>B006JXSCFC</td>\n",
       "      <td>Eduardo Placido</td>\n",
       "      <td>This Hamilton Beach Blender is amazing! It loo...</td>\n",
       "      <td>Great Blender + Chopper</td>\n",
       "      <td>1355270400</td>\n",
       "      <td>402.0</td>\n",
       "      <td>NaN</td>\n",
       "      <td>NaN</td>\n",
       "      <td>B006JXSCFC</td>\n",
       "      <td>1</td>\n",
       "    </tr>\n",
       "    <tr>\n",
       "      <th>2715153</th>\n",
       "      <td>5</td>\n",
       "      <td>False</td>\n",
       "      <td>12 12, 2012</td>\n",
       "      <td>A2S6QCNNN8AK91</td>\n",
       "      <td>B006JXSCFC</td>\n",
       "      <td>Denyse</td>\n",
       "      <td>I bought this blender because I wanted to star...</td>\n",
       "      <td>great for the price</td>\n",
       "      <td>1355270400</td>\n",
       "      <td>169.0</td>\n",
       "      <td>NaN</td>\n",
       "      <td>NaN</td>\n",
       "      <td>B006JXSCFC</td>\n",
       "      <td>1</td>\n",
       "    </tr>\n",
       "    <tr>\n",
       "      <th>2715154</th>\n",
       "      <td>5</td>\n",
       "      <td>True</td>\n",
       "      <td>12 6, 2012</td>\n",
       "      <td>A3QKP6NYMYZ9AB</td>\n",
       "      <td>B006JXSCFC</td>\n",
       "      <td>J M Ragsdale</td>\n",
       "      <td>I enjoyed this to make several things includin...</td>\n",
       "      <td>Was a good basic Blender</td>\n",
       "      <td>1354752000</td>\n",
       "      <td>2.0</td>\n",
       "      <td>NaN</td>\n",
       "      <td>NaN</td>\n",
       "      <td>B006JXSCFC</td>\n",
       "      <td>1</td>\n",
       "    </tr>\n",
       "    <tr>\n",
       "      <th>2715155</th>\n",
       "      <td>5</td>\n",
       "      <td>True</td>\n",
       "      <td>11 25, 2012</td>\n",
       "      <td>A1O2DJT6VJ4TCC</td>\n",
       "      <td>B006JXSCFC</td>\n",
       "      <td>Dori</td>\n",
       "      <td>I am so thrilled with this blender. I was look...</td>\n",
       "      <td>Exceeded My Expectations</td>\n",
       "      <td>1353801600</td>\n",
       "      <td>90.0</td>\n",
       "      <td>NaN</td>\n",
       "      <td>NaN</td>\n",
       "      <td>B006JXSCFC</td>\n",
       "      <td>1</td>\n",
       "    </tr>\n",
       "    <tr>\n",
       "      <th>2715156</th>\n",
       "      <td>4</td>\n",
       "      <td>True</td>\n",
       "      <td>06 22, 2018</td>\n",
       "      <td>AV55A16Y32PZM</td>\n",
       "      <td>B006JXSCFC</td>\n",
       "      <td>I. Joseph Marguliath</td>\n",
       "      <td>Its not perfect but its way better than the pl...</td>\n",
       "      <td>nice little unit</td>\n",
       "      <td>1529625600</td>\n",
       "      <td>NaN</td>\n",
       "      <td>NaN</td>\n",
       "      <td>NaN</td>\n",
       "      <td>B006JXSCFC</td>\n",
       "      <td>1</td>\n",
       "    </tr>\n",
       "    <tr>\n",
       "      <th>2715157</th>\n",
       "      <td>5</td>\n",
       "      <td>True</td>\n",
       "      <td>06 18, 2018</td>\n",
       "      <td>A2YRWX9LLTX49X</td>\n",
       "      <td>B006JXSCFC</td>\n",
       "      <td>Kara&amp;#039;s Gammy</td>\n",
       "      <td>Works well and I  The glass jar but its very n...</td>\n",
       "      <td>Great blender but very noisy</td>\n",
       "      <td>1529280000</td>\n",
       "      <td>NaN</td>\n",
       "      <td>NaN</td>\n",
       "      <td>NaN</td>\n",
       "      <td>B006JXSCFC</td>\n",
       "      <td>1</td>\n",
       "    </tr>\n",
       "    <tr>\n",
       "      <th>2715158</th>\n",
       "      <td>4</td>\n",
       "      <td>True</td>\n",
       "      <td>06 10, 2018</td>\n",
       "      <td>AA84Q4ERYL1B8</td>\n",
       "      <td>B006JXSCFC</td>\n",
       "      <td>Sean</td>\n",
       "      <td>&lt;div id=\"video-block-R3OMVIZ7MPJFK5\" class=\"a-...</td>\n",
       "      <td>Good Blender With Some Assembly Side Panel Issue</td>\n",
       "      <td>1528588800</td>\n",
       "      <td>NaN</td>\n",
       "      <td>NaN</td>\n",
       "      <td>[https://images-na.ssl-images-amazon.com/image...</td>\n",
       "      <td>B006JXSCFC</td>\n",
       "      <td>1</td>\n",
       "    </tr>\n",
       "  </tbody>\n",
       "</table>\n",
       "</div>"
      ],
      "text/plain": [
       "         overall  verified   reviewTime      reviewerID        asin  \\\n",
       "2715149        2      True   01 7, 2013   ALUL231E5HDUT  B006JXSCFC   \n",
       "2715150        5      True   01 2, 2013   AXFRKNJ1F5MF0  B006JXSCFC   \n",
       "2715151        5      True  12 30, 2012   A520MCDS0XHID  B006JXSCFC   \n",
       "2715152        5      True  12 12, 2012  A2Z9S2RQD542CP  B006JXSCFC   \n",
       "2715153        5     False  12 12, 2012  A2S6QCNNN8AK91  B006JXSCFC   \n",
       "2715154        5      True   12 6, 2012  A3QKP6NYMYZ9AB  B006JXSCFC   \n",
       "2715155        5      True  11 25, 2012  A1O2DJT6VJ4TCC  B006JXSCFC   \n",
       "2715156        4      True  06 22, 2018   AV55A16Y32PZM  B006JXSCFC   \n",
       "2715157        5      True  06 18, 2018  A2YRWX9LLTX49X  B006JXSCFC   \n",
       "2715158        4      True  06 10, 2018   AA84Q4ERYL1B8  B006JXSCFC   \n",
       "\n",
       "                 reviewerName  \\\n",
       "2715149              rich1896   \n",
       "2715150              Alvin E.   \n",
       "2715151              Equx4567   \n",
       "2715152       Eduardo Placido   \n",
       "2715153                Denyse   \n",
       "2715154          J M Ragsdale   \n",
       "2715155                  Dori   \n",
       "2715156  I. Joseph Marguliath   \n",
       "2715157     Kara&#039;s Gammy   \n",
       "2715158                  Sean   \n",
       "\n",
       "                                                reviewText  \\\n",
       "2715149  The lid leaks, and it seems to be a design fla...   \n",
       "2715150  This is a strong blender.but  the only thing  ...   \n",
       "2715151  I bought this for my sister in law for christm...   \n",
       "2715152  This Hamilton Beach Blender is amazing! It loo...   \n",
       "2715153  I bought this blender because I wanted to star...   \n",
       "2715154  I enjoyed this to make several things includin...   \n",
       "2715155  I am so thrilled with this blender. I was look...   \n",
       "2715156  Its not perfect but its way better than the pl...   \n",
       "2715157  Works well and I  The glass jar but its very n...   \n",
       "2715158  <div id=\"video-block-R3OMVIZ7MPJFK5\" class=\"a-...   \n",
       "\n",
       "                                                  summary  unixReviewTime  \\\n",
       "2715149                        lid leaks, poorly designed      1357516800   \n",
       "2715150                         this is wonderful blender      1357084800   \n",
       "2715151                Hamition Beach blender and chopper      1356825600   \n",
       "2715152                           Great Blender + Chopper      1355270400   \n",
       "2715153                               great for the price      1355270400   \n",
       "2715154                          Was a good basic Blender      1354752000   \n",
       "2715155                          Exceeded My Expectations      1353801600   \n",
       "2715156                                  nice little unit      1529625600   \n",
       "2715157                     Great blender but very noisy       1529280000   \n",
       "2715158  Good Blender With Some Assembly Side Panel Issue      1528588800   \n",
       "\n",
       "          vote style                                              image  \\\n",
       "2715149   13.0   NaN                                                NaN   \n",
       "2715150   29.0   NaN                                                NaN   \n",
       "2715151    NaN   NaN                                                NaN   \n",
       "2715152  402.0   NaN                                                NaN   \n",
       "2715153  169.0   NaN                                                NaN   \n",
       "2715154    2.0   NaN                                                NaN   \n",
       "2715155   90.0   NaN                                                NaN   \n",
       "2715156    NaN   NaN                                                NaN   \n",
       "2715157    NaN   NaN                                                NaN   \n",
       "2715158    NaN   NaN  [https://images-na.ssl-images-amazon.com/image...   \n",
       "\n",
       "        unique_asin  Positively Rated  \n",
       "2715149  B006JXSCFC                 0  \n",
       "2715150  B006JXSCFC                 1  \n",
       "2715151  B006JXSCFC                 1  \n",
       "2715152  B006JXSCFC                 1  \n",
       "2715153  B006JXSCFC                 1  \n",
       "2715154  B006JXSCFC                 1  \n",
       "2715155  B006JXSCFC                 1  \n",
       "2715156  B006JXSCFC                 1  \n",
       "2715157  B006JXSCFC                 1  \n",
       "2715158  B006JXSCFC                 1  "
      ]
     },
     "execution_count": 263,
     "metadata": {},
     "output_type": "execute_result"
    }
   ],
   "source": [
    "# Encode 4s and 5s as 1 (rated positively)\n",
    "# Encode 1s and 2s as 0 (rated poorly)\n",
    "rel_5_review_hoss_blender['Positively Rated']=np.where(rel_5_review_hoss_blender['overall']>3,1,0)\n",
    "rel_5_review_hoss_blender.head(10)"
   ]
  },
  {
   "cell_type": "code",
   "execution_count": 264,
   "id": "75d58e7f",
   "metadata": {},
   "outputs": [
    {
     "data": {
      "text/plain": [
       "False"
      ]
     },
     "execution_count": 264,
     "metadata": {},
     "output_type": "execute_result"
    }
   ],
   "source": [
    "# I want to be sure that there is no missing value in 'overal'\n",
    "rel_5_review_hoss_blender['overall'].isnull().values.any()\n",
    "rel_5_review_hoss_blender['reviewText'].isnull().values.any()\n",
    "#df = rel_5_review_hoss_blender[rel_5_review_hoss_blender['reviewText'] != '  ']\n",
    "#df.shape"
   ]
  },
  {
   "cell_type": "code",
   "execution_count": 265,
   "id": "a3ae7f1a",
   "metadata": {},
   "outputs": [
    {
     "data": {
      "text/plain": [
       "0.8441471571906355"
      ]
     },
     "execution_count": 265,
     "metadata": {},
     "output_type": "execute_result"
    }
   ],
   "source": [
    "rel_5_review_hoss_blender['Positively Rated'].mean() # it shows that most ratings are possitive"
   ]
  },
  {
   "cell_type": "markdown",
   "id": "845516f7",
   "metadata": {},
   "source": [
    "# Creat a test set"
   ]
  },
  {
   "cell_type": "code",
   "execution_count": null,
   "id": "8d018109",
   "metadata": {},
   "outputs": [],
   "source": [
    "#just  pick  some  instances  randomly,typically 20% of the dataset for test set.\n",
    "#Scikit-Learn provides a few functions to split datasets into multiple subsets in variousways.\n",
    "#The simplest function is train_test_split, \n",
    "#First  there  is  a  random_state  parameter  that  allows  you  to  set  the  randomgenerator  seed   \n",
    "#and  second  you  can  pass  it  multiple  datasets with  an  identical  number  of  rows,  \n",
    "#and  it  will  split  them  on  the  same  indices  (this  isvery useful, for example,\n",
    "#if you have a separate DataFrame for labels)"
   ]
  },
  {
   "cell_type": "code",
   "execution_count": 298,
   "id": "4ae46401",
   "metadata": {},
   "outputs": [
    {
     "name": "stdout",
     "output_type": "stream",
     "text": [
      "[2, 8, 4]\n",
      "[2, 8, 4]\n",
      "[2, 8, 4]\n",
      "[2, 8, 4]\n",
      "[2, 8, 4]\n",
      "******************************\n",
      "[0, 1, 6]\n",
      "[6, 4, 7]\n",
      "[7, 9, 8]\n",
      "[6, 7, 4]\n",
      "[9, 4, 2]\n"
     ]
    }
   ],
   "source": [
    "#when random_state set to an integer, train_test_split will return same results for each execution.\n",
    "\n",
    "#when random_state set to an None, train_test_split will return different results for each execution.\n",
    "\n",
    "#see below example:\n",
    "from sklearn.model_selection import train_test_split\n",
    "\n",
    "XX_data = range(10)\n",
    "yy_data = range(10)\n",
    "\n",
    "for i in range(5):\n",
    "    XX_train, XX_test, yy_train, yy_test = train_test_split(XX_data, yy_data, test_size = 0.3,random_state = 0) # zero or any other integer\n",
    "    print(yy_test)\n",
    "\n",
    "print(\"*\"*30)\n",
    "\n",
    "for i in range(5): \n",
    "    XX_train, XX_test, yy_train, yy_test = train_test_split(XX_data, yy_data, test_size = 0.3,random_state = None)\n",
    "    print(yy_test)\n"
   ]
  },
  {
   "cell_type": "code",
   "execution_count": 266,
   "id": "660a968c",
   "metadata": {},
   "outputs": [],
   "source": [
    "from sklearn.model_selection import train_test_split\n",
    "# Split data into training and test sets\n",
    "X_train, X_test, y_train, y_test = train_test_split(rel_5_review_hoss_blender['reviewText'], \n",
    "                                                    rel_5_review_hoss_blender['Positively Rated'], \n",
    "                                                    random_state=0)\n"
   ]
  },
  {
   "cell_type": "code",
   "execution_count": 297,
   "id": "ef979aab",
   "metadata": {},
   "outputs": [
    {
     "name": "stdout",
     "output_type": "stream",
     "text": [
      "Length of Train set:\n",
      "\n",
      " 1121\n",
      "Length of Testt:\n",
      "\n",
      " 374\n"
     ]
    }
   ],
   "source": [
    "print('Length of Train set:\\n\\n',len(X_train))\n",
    "print('Length of Testt:\\n\\n',len(X_test))\n"
   ]
  },
  {
   "cell_type": "code",
   "execution_count": 267,
   "id": "a020bdb8",
   "metadata": {},
   "outputs": [
    {
     "name": "stdout",
     "output_type": "stream",
     "text": [
      "X_train first entry:\n",
      "\n",
      " Great product!  Highly recommended!\n",
      "\n",
      "\n",
      "X_train shape:  (1121,)\n"
     ]
    }
   ],
   "source": [
    "print('X_train first entry:\\n\\n', X_train.iloc[0])\n",
    "print('\\n\\nX_train shape: ', X_train.shape)"
   ]
  },
  {
   "cell_type": "markdown",
   "id": "f1f97026",
   "metadata": {},
   "source": [
    "# CountVectorizer"
   ]
  },
  {
   "cell_type": "markdown",
   "id": "a3c75214",
   "metadata": {},
   "source": [
    "# Machines cannot understand characters and words. so when dealing with text data we need to represent it in numbers to understood by machine. Countervectorizer is a method to convert text to numerical data. "
   ]
  },
  {
   "cell_type": "code",
   "execution_count": 268,
   "id": "d329676e",
   "metadata": {},
   "outputs": [
    {
     "data": {
      "text/html": [
       "<style>#sk-container-id-5 {color: black;background-color: white;}#sk-container-id-5 pre{padding: 0;}#sk-container-id-5 div.sk-toggleable {background-color: white;}#sk-container-id-5 label.sk-toggleable__label {cursor: pointer;display: block;width: 100%;margin-bottom: 0;padding: 0.3em;box-sizing: border-box;text-align: center;}#sk-container-id-5 label.sk-toggleable__label-arrow:before {content: \"▸\";float: left;margin-right: 0.25em;color: #696969;}#sk-container-id-5 label.sk-toggleable__label-arrow:hover:before {color: black;}#sk-container-id-5 div.sk-estimator:hover label.sk-toggleable__label-arrow:before {color: black;}#sk-container-id-5 div.sk-toggleable__content {max-height: 0;max-width: 0;overflow: hidden;text-align: left;background-color: #f0f8ff;}#sk-container-id-5 div.sk-toggleable__content pre {margin: 0.2em;color: black;border-radius: 0.25em;background-color: #f0f8ff;}#sk-container-id-5 input.sk-toggleable__control:checked~div.sk-toggleable__content {max-height: 200px;max-width: 100%;overflow: auto;}#sk-container-id-5 input.sk-toggleable__control:checked~label.sk-toggleable__label-arrow:before {content: \"▾\";}#sk-container-id-5 div.sk-estimator input.sk-toggleable__control:checked~label.sk-toggleable__label {background-color: #d4ebff;}#sk-container-id-5 div.sk-label input.sk-toggleable__control:checked~label.sk-toggleable__label {background-color: #d4ebff;}#sk-container-id-5 input.sk-hidden--visually {border: 0;clip: rect(1px 1px 1px 1px);clip: rect(1px, 1px, 1px, 1px);height: 1px;margin: -1px;overflow: hidden;padding: 0;position: absolute;width: 1px;}#sk-container-id-5 div.sk-estimator {font-family: monospace;background-color: #f0f8ff;border: 1px dotted black;border-radius: 0.25em;box-sizing: border-box;margin-bottom: 0.5em;}#sk-container-id-5 div.sk-estimator:hover {background-color: #d4ebff;}#sk-container-id-5 div.sk-parallel-item::after {content: \"\";width: 100%;border-bottom: 1px solid gray;flex-grow: 1;}#sk-container-id-5 div.sk-label:hover label.sk-toggleable__label {background-color: #d4ebff;}#sk-container-id-5 div.sk-serial::before {content: \"\";position: absolute;border-left: 1px solid gray;box-sizing: border-box;top: 0;bottom: 0;left: 50%;z-index: 0;}#sk-container-id-5 div.sk-serial {display: flex;flex-direction: column;align-items: center;background-color: white;padding-right: 0.2em;padding-left: 0.2em;position: relative;}#sk-container-id-5 div.sk-item {position: relative;z-index: 1;}#sk-container-id-5 div.sk-parallel {display: flex;align-items: stretch;justify-content: center;background-color: white;position: relative;}#sk-container-id-5 div.sk-item::before, #sk-container-id-5 div.sk-parallel-item::before {content: \"\";position: absolute;border-left: 1px solid gray;box-sizing: border-box;top: 0;bottom: 0;left: 50%;z-index: -1;}#sk-container-id-5 div.sk-parallel-item {display: flex;flex-direction: column;z-index: 1;position: relative;background-color: white;}#sk-container-id-5 div.sk-parallel-item:first-child::after {align-self: flex-end;width: 50%;}#sk-container-id-5 div.sk-parallel-item:last-child::after {align-self: flex-start;width: 50%;}#sk-container-id-5 div.sk-parallel-item:only-child::after {width: 0;}#sk-container-id-5 div.sk-dashed-wrapped {border: 1px dashed gray;margin: 0 0.4em 0.5em 0.4em;box-sizing: border-box;padding-bottom: 0.4em;background-color: white;}#sk-container-id-5 div.sk-label label {font-family: monospace;font-weight: bold;display: inline-block;line-height: 1.2em;}#sk-container-id-5 div.sk-label-container {text-align: center;}#sk-container-id-5 div.sk-container {/* jupyter's `normalize.less` sets `[hidden] { display: none; }` but bootstrap.min.css set `[hidden] { display: none !important; }` so we also need the `!important` here to be able to override the default hidden behavior on the sphinx rendered scikit-learn.org. See: https://github.com/scikit-learn/scikit-learn/issues/21755 */display: inline-block !important;position: relative;}#sk-container-id-5 div.sk-text-repr-fallback {display: none;}</style><div id=\"sk-container-id-5\" class=\"sk-top-container\"><div class=\"sk-text-repr-fallback\"><pre>CountVectorizer()</pre><b>In a Jupyter environment, please rerun this cell to show the HTML representation or trust the notebook. <br />On GitHub, the HTML representation is unable to render, please try loading this page with nbviewer.org.</b></div><div class=\"sk-container\" hidden><div class=\"sk-item\"><div class=\"sk-estimator sk-toggleable\"><input class=\"sk-toggleable__control sk-hidden--visually\" id=\"sk-estimator-id-5\" type=\"checkbox\" checked><label for=\"sk-estimator-id-5\" class=\"sk-toggleable__label sk-toggleable__label-arrow\">CountVectorizer</label><div class=\"sk-toggleable__content\"><pre>CountVectorizer()</pre></div></div></div></div></div>"
      ],
      "text/plain": [
       "CountVectorizer()"
      ]
     },
     "execution_count": 268,
     "metadata": {},
     "output_type": "execute_result"
    }
   ],
   "source": [
    "from sklearn.feature_extraction.text import CountVectorizer\n",
    "\n",
    "# Fit the CountVectorizer to the training data\n",
    "vect = CountVectorizer().fit(X_train)\n",
    "vect"
   ]
  },
  {
   "cell_type": "code",
   "execution_count": 269,
   "id": "fc6c22d5",
   "metadata": {},
   "outputs": [
    {
     "name": "stderr",
     "output_type": "stream",
     "text": [
      "/home/hossna/anaconda3/lib/python3.9/site-packages/sklearn/utils/deprecation.py:87: FutureWarning: Function get_feature_names is deprecated; get_feature_names is deprecated in 1.0 and will be removed in 1.2. Please use get_feature_names_out instead.\n",
      "  warnings.warn(msg, category=FutureWarning)\n"
     ]
    },
    {
     "data": {
      "text/plain": [
       "['00',\n",
       " 'accomplish',\n",
       " 'appearance',\n",
       " 'batter',\n",
       " 'bowl',\n",
       " 'caveat',\n",
       " 'closing',\n",
       " 'convenient',\n",
       " 'daq',\n",
       " 'dismantling',\n",
       " 'electric',\n",
       " 'fair',\n",
       " 'follow',\n",
       " 'ginger',\n",
       " 'hate',\n",
       " 'iced',\n",
       " 'jar',\n",
       " 'lift',\n",
       " 'margarita',\n",
       " 'month',\n",
       " 'number',\n",
       " 'overseas',\n",
       " 'pine',\n",
       " 'primary',\n",
       " 'ranks',\n",
       " 'research',\n",
       " 'scoops',\n",
       " 'shops',\n",
       " 'softer',\n",
       " 'star',\n",
       " 'summary',\n",
       " 'things',\n",
       " 'twice',\n",
       " 'video',\n",
       " 'whim']"
      ]
     },
     "execution_count": 269,
     "metadata": {},
     "output_type": "execute_result"
    }
   ],
   "source": [
    "vect.get_feature_names()[::100] # return every 2000 element from entire array"
   ]
  },
  {
   "cell_type": "code",
   "execution_count": 270,
   "id": "4e754b10",
   "metadata": {},
   "outputs": [
    {
     "data": {
      "text/plain": [
       "3494"
      ]
     },
     "execution_count": 270,
     "metadata": {},
     "output_type": "execute_result"
    }
   ],
   "source": [
    "len(vect.get_feature_names())"
   ]
  },
  {
   "cell_type": "code",
   "execution_count": 271,
   "id": "f7f95bb7",
   "metadata": {},
   "outputs": [
    {
     "data": {
      "text/plain": [
       "<1121x3494 sparse matrix of type '<class 'numpy.int64'>'\n",
       "\twith 33267 stored elements in Compressed Sparse Row format>"
      ]
     },
     "execution_count": 271,
     "metadata": {},
     "output_type": "execute_result"
    }
   ],
   "source": [
    "# transform the documents in the training data to a document-term matrix\n",
    "X_train_vectorized = vect.transform(X_train)\n",
    "\n",
    "X_train_vectorized"
   ]
  },
  {
   "cell_type": "code",
   "execution_count": 272,
   "id": "e9e38073",
   "metadata": {},
   "outputs": [
    {
     "data": {
      "text/html": [
       "<style>#sk-container-id-6 {color: black;background-color: white;}#sk-container-id-6 pre{padding: 0;}#sk-container-id-6 div.sk-toggleable {background-color: white;}#sk-container-id-6 label.sk-toggleable__label {cursor: pointer;display: block;width: 100%;margin-bottom: 0;padding: 0.3em;box-sizing: border-box;text-align: center;}#sk-container-id-6 label.sk-toggleable__label-arrow:before {content: \"▸\";float: left;margin-right: 0.25em;color: #696969;}#sk-container-id-6 label.sk-toggleable__label-arrow:hover:before {color: black;}#sk-container-id-6 div.sk-estimator:hover label.sk-toggleable__label-arrow:before {color: black;}#sk-container-id-6 div.sk-toggleable__content {max-height: 0;max-width: 0;overflow: hidden;text-align: left;background-color: #f0f8ff;}#sk-container-id-6 div.sk-toggleable__content pre {margin: 0.2em;color: black;border-radius: 0.25em;background-color: #f0f8ff;}#sk-container-id-6 input.sk-toggleable__control:checked~div.sk-toggleable__content {max-height: 200px;max-width: 100%;overflow: auto;}#sk-container-id-6 input.sk-toggleable__control:checked~label.sk-toggleable__label-arrow:before {content: \"▾\";}#sk-container-id-6 div.sk-estimator input.sk-toggleable__control:checked~label.sk-toggleable__label {background-color: #d4ebff;}#sk-container-id-6 div.sk-label input.sk-toggleable__control:checked~label.sk-toggleable__label {background-color: #d4ebff;}#sk-container-id-6 input.sk-hidden--visually {border: 0;clip: rect(1px 1px 1px 1px);clip: rect(1px, 1px, 1px, 1px);height: 1px;margin: -1px;overflow: hidden;padding: 0;position: absolute;width: 1px;}#sk-container-id-6 div.sk-estimator {font-family: monospace;background-color: #f0f8ff;border: 1px dotted black;border-radius: 0.25em;box-sizing: border-box;margin-bottom: 0.5em;}#sk-container-id-6 div.sk-estimator:hover {background-color: #d4ebff;}#sk-container-id-6 div.sk-parallel-item::after {content: \"\";width: 100%;border-bottom: 1px solid gray;flex-grow: 1;}#sk-container-id-6 div.sk-label:hover label.sk-toggleable__label {background-color: #d4ebff;}#sk-container-id-6 div.sk-serial::before {content: \"\";position: absolute;border-left: 1px solid gray;box-sizing: border-box;top: 0;bottom: 0;left: 50%;z-index: 0;}#sk-container-id-6 div.sk-serial {display: flex;flex-direction: column;align-items: center;background-color: white;padding-right: 0.2em;padding-left: 0.2em;position: relative;}#sk-container-id-6 div.sk-item {position: relative;z-index: 1;}#sk-container-id-6 div.sk-parallel {display: flex;align-items: stretch;justify-content: center;background-color: white;position: relative;}#sk-container-id-6 div.sk-item::before, #sk-container-id-6 div.sk-parallel-item::before {content: \"\";position: absolute;border-left: 1px solid gray;box-sizing: border-box;top: 0;bottom: 0;left: 50%;z-index: -1;}#sk-container-id-6 div.sk-parallel-item {display: flex;flex-direction: column;z-index: 1;position: relative;background-color: white;}#sk-container-id-6 div.sk-parallel-item:first-child::after {align-self: flex-end;width: 50%;}#sk-container-id-6 div.sk-parallel-item:last-child::after {align-self: flex-start;width: 50%;}#sk-container-id-6 div.sk-parallel-item:only-child::after {width: 0;}#sk-container-id-6 div.sk-dashed-wrapped {border: 1px dashed gray;margin: 0 0.4em 0.5em 0.4em;box-sizing: border-box;padding-bottom: 0.4em;background-color: white;}#sk-container-id-6 div.sk-label label {font-family: monospace;font-weight: bold;display: inline-block;line-height: 1.2em;}#sk-container-id-6 div.sk-label-container {text-align: center;}#sk-container-id-6 div.sk-container {/* jupyter's `normalize.less` sets `[hidden] { display: none; }` but bootstrap.min.css set `[hidden] { display: none !important; }` so we also need the `!important` here to be able to override the default hidden behavior on the sphinx rendered scikit-learn.org. See: https://github.com/scikit-learn/scikit-learn/issues/21755 */display: inline-block !important;position: relative;}#sk-container-id-6 div.sk-text-repr-fallback {display: none;}</style><div id=\"sk-container-id-6\" class=\"sk-top-container\"><div class=\"sk-text-repr-fallback\"><pre>LogisticRegression()</pre><b>In a Jupyter environment, please rerun this cell to show the HTML representation or trust the notebook. <br />On GitHub, the HTML representation is unable to render, please try loading this page with nbviewer.org.</b></div><div class=\"sk-container\" hidden><div class=\"sk-item\"><div class=\"sk-estimator sk-toggleable\"><input class=\"sk-toggleable__control sk-hidden--visually\" id=\"sk-estimator-id-6\" type=\"checkbox\" checked><label for=\"sk-estimator-id-6\" class=\"sk-toggleable__label sk-toggleable__label-arrow\">LogisticRegression</label><div class=\"sk-toggleable__content\"><pre>LogisticRegression()</pre></div></div></div></div></div>"
      ],
      "text/plain": [
       "LogisticRegression()"
      ]
     },
     "execution_count": 272,
     "metadata": {},
     "output_type": "execute_result"
    }
   ],
   "source": [
    "from sklearn.linear_model import LogisticRegression\n",
    "\n",
    "# Train the model\n",
    "model = LogisticRegression()\n",
    "model.fit(X_train_vectorized, y_train)"
   ]
  },
  {
   "cell_type": "code",
   "execution_count": 273,
   "id": "c5435ac1",
   "metadata": {},
   "outputs": [
    {
     "name": "stdout",
     "output_type": "stream",
     "text": [
      "AUC:  0.7380632312671147\n"
     ]
    }
   ],
   "source": [
    "from sklearn.metrics import roc_auc_score\n",
    "\n",
    "# Predict the transformed test documents\n",
    "predictions = model.predict(vect.transform(X_test))\n",
    "\n",
    "print('AUC: ', roc_auc_score(y_test, predictions))"
   ]
  },
  {
   "cell_type": "code",
   "execution_count": 274,
   "id": "062819b3",
   "metadata": {},
   "outputs": [
    {
     "name": "stdout",
     "output_type": "stream",
     "text": [
      "Smallest Coefs:\n",
      "['not' 'doesn' 'after' 'even' 'second' 'buy' 'pay' 'terrible' 'return'\n",
      " 'didn']\n",
      "\n",
      "Largest Coefs: \n",
      "['great' 'love' 'price' 'excellent' 'works' 'need' 'perfect' 'easy' 'as'\n",
      " 'for']\n"
     ]
    },
    {
     "name": "stderr",
     "output_type": "stream",
     "text": [
      "/home/hossna/anaconda3/lib/python3.9/site-packages/sklearn/utils/deprecation.py:87: FutureWarning: Function get_feature_names is deprecated; get_feature_names is deprecated in 1.0 and will be removed in 1.2. Please use get_feature_names_out instead.\n",
      "  warnings.warn(msg, category=FutureWarning)\n"
     ]
    }
   ],
   "source": [
    "# get the feature names as numpy array\n",
    "feature_names = np.array(vect.get_feature_names())\n",
    "\n",
    "# Sort the coefficients from the model\n",
    "sorted_coef_index = model.coef_[0].argsort() #Logistic regression models are instantiated and fit the same way, and the .coef_ attribute is also used to view the model’s coefficients. \n",
    "#(Note: you will need to use .coef_[0] for logistic regression to put it into a dataframe.)\n",
    "\n",
    "# Find the 10 smallest and 10 largest coefficients\n",
    "# The 10 largest coefficients are being indexed using [:-11:-1] \n",
    "# so the list returned is in order of largest to smallest\n",
    "print('Smallest Coefs:\\n{}\\n'.format(feature_names[sorted_coef_index[:10]]))\n",
    "print('Largest Coefs: \\n{}'.format(feature_names[sorted_coef_index[:-11:-1]]))\n"
   ]
  },
  {
   "cell_type": "markdown",
   "id": "b889fbf0",
   "metadata": {},
   "source": [
    "# Tfidf"
   ]
  },
  {
   "cell_type": "code",
   "execution_count": 275,
   "id": "63a5c3df",
   "metadata": {},
   "outputs": [
    {
     "data": {
      "text/plain": [
       "973"
      ]
     },
     "execution_count": 275,
     "metadata": {},
     "output_type": "execute_result"
    }
   ],
   "source": [
    "from sklearn.feature_extraction.text import TfidfVectorizer\n",
    "\n",
    "# Fit the TfidfVectorizer to the training data specifiying a minimum document frequency of 5\n",
    "vect = TfidfVectorizer(min_df=5,max_df=0.75, stop_words='english',ngram_range=(1,3)).fit(X_train)\n",
    "len(vect.get_feature_names())"
   ]
  },
  {
   "cell_type": "code",
   "execution_count": 276,
   "id": "7c25d10a",
   "metadata": {},
   "outputs": [
    {
     "name": "stdout",
     "output_type": "stream",
     "text": [
      "AUC:  0.5846153846153845\n"
     ]
    }
   ],
   "source": [
    "X_train_vectorized = vect.transform(X_train)\n",
    "\n",
    "model = LogisticRegression()\n",
    "model.fit(X_train_vectorized, y_train)\n",
    "\n",
    "predictions = model.predict(vect.transform(X_test))\n",
    "\n",
    "print('AUC: ', roc_auc_score(y_test, predictions))"
   ]
  },
  {
   "cell_type": "code",
   "execution_count": 277,
   "id": "ba7c90c0",
   "metadata": {},
   "outputs": [
    {
     "name": "stdout",
     "output_type": "stream",
     "text": [
      "Smallest tfidf:\n",
      "['getting stuck' 'power elite multi' 'power elite' 'elite multi'\n",
      " 'elite multi function' 'orange' 'elite' 'cups' '25' 'compare']\n",
      "\n",
      "Largest tfidf: \n",
      "['easy' 'nice' 'loves' 'works' 'described' 'wonderful' 'complaints'\n",
      " 'recommend' 'gift' 'good']\n"
     ]
    },
    {
     "name": "stderr",
     "output_type": "stream",
     "text": [
      "/home/hossna/anaconda3/lib/python3.9/site-packages/sklearn/utils/deprecation.py:87: FutureWarning: Function get_feature_names is deprecated; get_feature_names is deprecated in 1.0 and will be removed in 1.2. Please use get_feature_names_out instead.\n",
      "  warnings.warn(msg, category=FutureWarning)\n"
     ]
    }
   ],
   "source": [
    "feature_names = np.array(vect.get_feature_names())\n",
    "\n",
    "sorted_tfidf_index = X_train_vectorized.max(0).toarray()[0].argsort()\n",
    "\n",
    "print('Smallest tfidf:\\n{}\\n'.format(feature_names[sorted_tfidf_index[:10]]))\n",
    "print('Largest tfidf: \\n{}'.format(feature_names[sorted_tfidf_index[:-11:-1]]))"
   ]
  },
  {
   "cell_type": "code",
   "execution_count": 278,
   "id": "337432bc",
   "metadata": {},
   "outputs": [
    {
     "name": "stdout",
     "output_type": "stream",
     "text": [
      "Smallest Coefs:\n",
      "['blend' 'work' 'return' 'tried' 'waste' 'buy' 'second' 'blades'\n",
      " 'terrible' 'doesn']\n",
      "\n",
      "Largest Coefs: \n",
      "['great' 'love' 'works' 'price' 'excellent' 'easy' 'smoothies' 'perfect'\n",
      " 'good' 'nice']\n"
     ]
    }
   ],
   "source": [
    "sorted_coef_index = model.coef_[0].argsort()\n",
    "\n",
    "print('Smallest Coefs:\\n{}\\n'.format(feature_names[sorted_coef_index[:10]]))\n",
    "print('Largest Coefs: \\n{}'.format(feature_names[sorted_coef_index[:-11:-1]]))"
   ]
  },
  {
   "cell_type": "code",
   "execution_count": 279,
   "id": "dc08657c",
   "metadata": {},
   "outputs": [
    {
     "name": "stdout",
     "output_type": "stream",
     "text": [
      "[1 1]\n"
     ]
    }
   ],
   "source": [
    "# These reviews are treated the same by our current model\n",
    "print(model.predict(vect.transform(['not an issue, blender is working',\n",
    "                                    'an issue, blender is not working'])))"
   ]
  },
  {
   "cell_type": "markdown",
   "id": "54b273bf",
   "metadata": {},
   "source": [
    "# CountVectorizer with n-gram"
   ]
  },
  {
   "cell_type": "markdown",
   "id": "d245edf1",
   "metadata": {},
   "source": [
    "#Stopwords are the words in any language which does not add much meaning to a sentence. They can safely be ignored without sacrificing the meaning of the sentence.\n",
    "#sklearn built in stop words list CountVectorizer(stop_words='english')"
   ]
  },
  {
   "cell_type": "markdown",
   "id": "271f79df",
   "metadata": {},
   "source": [
    "#Max_df looks at how many documents contain the word and if it exceeds the max_df threshold then it is eliminated from the sparse matrix. \n",
    "if a word appears in 4 out of 5 documents(85%) and hence crosses the threshold of 75% and removed from the sparse matrix."
   ]
  },
  {
   "cell_type": "markdown",
   "id": "aaa16004",
   "metadata": {},
   "source": [
    "#Min_df stands for minimum document frequency, as opposed to term frequency which counts the number of times the word has occurred in the entire dataset, document frequency counts the number of documents in the dataset (aka rows or entries) that have the particular word. When building the vocabulary Min_df ignores terms that have a document frequency strictly lower than the given threshold. For example in your dataset you may have names that appear in only 1 or 2 documents, now these could be ignored as they do not provide enough information on the entire dataset as a whole but only a couple of particular documents. min_df can take absolute values(1,2,3..) or a value representing a percentage of documents(0.50, ignore words appearing in 50% of documents)\n"
   ]
  },
  {
   "cell_type": "code",
   "execution_count": 280,
   "id": "72da96c7",
   "metadata": {},
   "outputs": [
    {
     "data": {
      "text/plain": [
       "947"
      ]
     },
     "execution_count": 280,
     "metadata": {},
     "output_type": "execute_result"
    }
   ],
   "source": [
    "# Fit the CountVectorizer to the training data specifiying a minimum \n",
    "# document frequency of 5 and extracting 1-grams and 2-grams\n",
    "vect = CountVectorizer(stop_words='english',min_df=5,max_df= 0.75, ngram_range=(1,2)).fit(X_train)\n",
    "\n",
    "X_train_vectorized = vect.transform(X_train)\n",
    "\n",
    "len(vect.get_feature_names())\n",
    "#print(vect.vocabulary_) #The numbers do not represent the count of the words but \n",
    "#the position of the words in the matrix\n",
    "#If you just want the vocabulary without the position of the word in the sparse matrix,\n",
    "#you can use the method ‘get_feature_names()’. \n",
    "#If you notice this is the same method we use while creating our database and setting our columns."
   ]
  },
  {
   "cell_type": "markdown",
   "id": "54edffe8",
   "metadata": {},
   "source": [
    "# Logistic regression"
   ]
  },
  {
   "cell_type": "code",
   "execution_count": 281,
   "id": "e09968fb",
   "metadata": {},
   "outputs": [
    {
     "name": "stdout",
     "output_type": "stream",
     "text": [
      "AUC:  0.8044560617376151\n"
     ]
    }
   ],
   "source": [
    "model = LogisticRegression()\n",
    "model.fit(X_train_vectorized, y_train)\n",
    "\n",
    "predictions = model.predict(vect.transform(X_test))\n",
    "\n",
    "print('AUC: ', roc_auc_score(y_test, predictions))"
   ]
  },
  {
   "cell_type": "code",
   "execution_count": 282,
   "id": "d26c657a",
   "metadata": {},
   "outputs": [
    {
     "name": "stdout",
     "output_type": "stream",
     "text": [
      "Smallest Coefs:\n",
      "['second' 'blades' 'return' 'terrible' 'pay' 'died' 'work' 'buy' 'leaks'\n",
      " 'waste']\n",
      "\n",
      "Largest Coefs: \n",
      "['love' 'great' 'works' 'excellent' 'price' 'perfect' 'water' 'need'\n",
      " 'easy' 've']\n"
     ]
    },
    {
     "name": "stderr",
     "output_type": "stream",
     "text": [
      "/home/hossna/anaconda3/lib/python3.9/site-packages/sklearn/utils/deprecation.py:87: FutureWarning: Function get_feature_names is deprecated; get_feature_names is deprecated in 1.0 and will be removed in 1.2. Please use get_feature_names_out instead.\n",
      "  warnings.warn(msg, category=FutureWarning)\n"
     ]
    }
   ],
   "source": [
    "feature_names = np.array(vect.get_feature_names())\n",
    "\n",
    "sorted_coef_index = model.coef_[0].argsort()\n",
    "\n",
    "print('Smallest Coefs:\\n{}\\n'.format(feature_names[sorted_coef_index[:10]]))\n",
    "print('Largest Coefs: \\n{}'.format(feature_names[sorted_coef_index[:-11:-1]]))"
   ]
  },
  {
   "cell_type": "code",
   "execution_count": 283,
   "id": "e021c86d",
   "metadata": {},
   "outputs": [
    {
     "name": "stdout",
     "output_type": "stream",
     "text": [
      "[1 1]\n"
     ]
    }
   ],
   "source": [
    "# These reviews are now correctly identified\n",
    "print(model.predict(vect.transform(['not an issue, blender is working',\n",
    "                                    'an issue, blender is not working'])))"
   ]
  },
  {
   "cell_type": "markdown",
   "id": "06ae9d5b",
   "metadata": {},
   "source": [
    "# Linear SVM Classification"
   ]
  },
  {
   "cell_type": "code",
   "execution_count": 284,
   "id": "e4949732",
   "metadata": {},
   "outputs": [
    {
     "name": "stdout",
     "output_type": "stream",
     "text": [
      "AUC:  0.8332088623350759\n"
     ]
    }
   ],
   "source": [
    "from sklearn.svm import LinearSVC\n",
    "model=LinearSVC(C=1,loss=\"hinge\")\n",
    "model.fit(X_train_vectorized,y_train)\n",
    "predictions = model.predict(vect.transform(X_test))\n",
    "print('AUC: ', roc_auc_score(y_test, predictions))"
   ]
  },
  {
   "cell_type": "code",
   "execution_count": 285,
   "id": "67b49725",
   "metadata": {},
   "outputs": [
    {
     "name": "stdout",
     "output_type": "stream",
     "text": [
      "Smallest Coefs:\n",
      "['died' 'leaked' 'terrible' 'didn' 'pay' 'year' 'second' 'return'\n",
      " 'disappointed' 'blades']\n",
      "\n",
      "Largest Coefs: \n",
      "['water' 'love' 'excellent' 'model' 'works' 'described' 'great product'\n",
      " 'hope' 'cooking' 'hummus']\n"
     ]
    },
    {
     "name": "stderr",
     "output_type": "stream",
     "text": [
      "/home/hossna/anaconda3/lib/python3.9/site-packages/sklearn/utils/deprecation.py:87: FutureWarning: Function get_feature_names is deprecated; get_feature_names is deprecated in 1.0 and will be removed in 1.2. Please use get_feature_names_out instead.\n",
      "  warnings.warn(msg, category=FutureWarning)\n"
     ]
    }
   ],
   "source": [
    "feature_names = np.array(vect.get_feature_names())\n",
    "\n",
    "sorted_coef_index = model.coef_[0].argsort()\n",
    "\n",
    "print('Smallest Coefs:\\n{}\\n'.format(feature_names[sorted_coef_index[:10]]))\n",
    "print('Largest Coefs: \\n{}'.format(feature_names[sorted_coef_index[:-11:-1]]))"
   ]
  },
  {
   "cell_type": "code",
   "execution_count": 286,
   "id": "1877cfbc",
   "metadata": {},
   "outputs": [
    {
     "name": "stdout",
     "output_type": "stream",
     "text": [
      "[1 1]\n"
     ]
    }
   ],
   "source": [
    "# These reviews are now correctly identified\n",
    "print(model.predict(vect.transform(['not an issue, blender is working',\n",
    "                                    'an issue, blender is not working'])))"
   ]
  },
  {
   "cell_type": "markdown",
   "id": "9507b232",
   "metadata": {},
   "source": [
    "# NonLinear SVM Classification"
   ]
  },
  {
   "cell_type": "code",
   "execution_count": 287,
   "id": "2fbaef53",
   "metadata": {},
   "outputs": [
    {
     "name": "stdout",
     "output_type": "stream",
     "text": [
      "AUC:  0.7988050784167289\n"
     ]
    }
   ],
   "source": [
    "from sklearn.preprocessing import PolynomialFeatures\n",
    "model=LinearSVC(C=10,loss=\"hinge\")\n",
    "model.fit(X_train_vectorized,y_train)\n",
    "predictions = model.predict(vect.transform(X_test))\n",
    "print('AUC: ', roc_auc_score(y_test, predictions))"
   ]
  },
  {
   "cell_type": "markdown",
   "id": "060493d2",
   "metadata": {},
   "source": [
    "# Polynomial Kernel"
   ]
  },
  {
   "cell_type": "code",
   "execution_count": 288,
   "id": "552bd55d",
   "metadata": {},
   "outputs": [
    {
     "name": "stdout",
     "output_type": "stream",
     "text": [
      "AUC:  0.8024396315658451\n"
     ]
    }
   ],
   "source": [
    "from sklearn.svm import SVC\n",
    "model=SVC(kernel=\"poly\", degree=3, coef0=1,C=5)\n",
    "model.fit(X_train_vectorized,y_train)\n",
    "predictions = model.predict(vect.transform(X_test))\n",
    "print('AUC: ', roc_auc_score(y_test, predictions))"
   ]
  },
  {
   "cell_type": "markdown",
   "id": "8eb7c1da",
   "metadata": {},
   "source": [
    "# Gaussian RBF Kernel"
   ]
  },
  {
   "cell_type": "code",
   "execution_count": 289,
   "id": "a485630d",
   "metadata": {},
   "outputs": [
    {
     "name": "stdout",
     "output_type": "stream",
     "text": [
      "AUC:  0.5\n"
     ]
    }
   ],
   "source": [
    "model=SVC(kernel=\"rbf\", gamma=5, C=0.001)\n",
    "model.fit(X_train_vectorized,y_train)\n",
    "predictions = model.predict(vect.transform(X_test))\n",
    "print('AUC: ', roc_auc_score(y_test, predictions))"
   ]
  },
  {
   "cell_type": "markdown",
   "id": "1dc6e2aa",
   "metadata": {},
   "source": [
    "# SGD classifier"
   ]
  },
  {
   "cell_type": "code",
   "execution_count": 291,
   "id": "90cba121",
   "metadata": {},
   "outputs": [
    {
     "name": "stdout",
     "output_type": "stream",
     "text": [
      "AUC:  0.7712720936021906\n"
     ]
    }
   ],
   "source": [
    "#The  SGDClassifier  relies  on  randomness  during  training  (hencethe   name   “stochastic”).\n",
    "#If   you   want   reproducible   results,   youshould set the random_state parameter.\n",
    "from sklearn.linear_model import SGDClassifier\n",
    "model=SGDClassifier(random_state=42)\n",
    "model.fit(X_train_vectorized,y_train)\n",
    "predictions = model.predict(vect.transform(X_test))\n",
    "print('AUC: ', roc_auc_score(y_test, predictions))"
   ]
  },
  {
   "cell_type": "markdown",
   "id": "151fa2d9",
   "metadata": {},
   "source": [
    "# performance measures"
   ]
  },
  {
   "cell_type": "markdown",
   "id": "bce3f894",
   "metadata": {},
   "source": [
    "#Evaluating a classifier is often significantly trickier than evaluating a regressor."
   ]
  },
  {
   "cell_type": "code",
   "execution_count": null,
   "id": "843d115b",
   "metadata": {},
   "outputs": [],
   "source": []
  }
 ],
 "metadata": {
  "kernelspec": {
   "display_name": "Python 3 (ipykernel)",
   "language": "python",
   "name": "python3"
  },
  "language_info": {
   "codemirror_mode": {
    "name": "ipython",
    "version": 3
   },
   "file_extension": ".py",
   "mimetype": "text/x-python",
   "name": "python",
   "nbconvert_exporter": "python",
   "pygments_lexer": "ipython3",
   "version": "3.9.12"
  }
 },
 "nbformat": 4,
 "nbformat_minor": 5
}
